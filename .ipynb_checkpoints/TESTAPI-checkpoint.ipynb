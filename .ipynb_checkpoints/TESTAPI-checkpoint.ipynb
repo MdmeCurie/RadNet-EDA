{
 "cells": [
  {
   "cell_type": "markdown",
   "metadata": {},
   "source": [
    "## API Testing Tutorial with OpenNotify API \n",
    "\n",
    "https://www.dataquest.io/blog/python-api-tutorial/"
   ]
  },
  {
   "cell_type": "code",
   "execution_count": 1,
   "metadata": {
    "collapsed": false
   },
   "outputs": [
    {
     "name": "stdout",
     "output_type": "stream",
     "text": [
      "200\n"
     ]
    }
   ],
   "source": [
    "import json\n",
    "import requests\n",
    "\n",
    "# Make a get request to get the latest position of the international space station from the opennotify api.\n",
    "response = requests.get(\"http://api.open-notify.org/iss-now.json\")\n",
    "\n",
    "# Print the status code of the response.\n",
    "print(response.status_code)"
   ]
  },
  {
   "cell_type": "code",
   "execution_count": 2,
   "metadata": {
    "collapsed": false
   },
   "outputs": [
    {
     "name": "stdout",
     "output_type": "stream",
     "text": [
      "{\n",
      "  \"message\": \"success\", \n",
      "  \"request\": {\n",
      "    \"altitude\": 100, \n",
      "    \"datetime\": 1506284211, \n",
      "    \"latitude\": 40.71, \n",
      "    \"longitude\": -74.0, \n",
      "    \"passes\": 5\n",
      "  }, \n",
      "  \"response\": [\n",
      "    {\n",
      "      \"duration\": 482, \n",
      "      \"risetime\": 1506294526\n",
      "    }, \n",
      "    {\n",
      "      \"duration\": 641, \n",
      "      \"risetime\": 1506300203\n",
      "    }, \n",
      "    {\n",
      "      \"duration\": 594, \n",
      "      \"risetime\": 1506306034\n",
      "    }, \n",
      "    {\n",
      "      \"duration\": 547, \n",
      "      \"risetime\": 1506311904\n",
      "    }, \n",
      "    {\n",
      "      \"duration\": 602, \n",
      "      \"risetime\": 1506317722\n",
      "    }\n",
      "  ]\n",
      "}\n",
      "\n",
      "{\n",
      "  \"message\": \"success\", \n",
      "  \"request\": {\n",
      "    \"altitude\": 100, \n",
      "    \"datetime\": 1506284211, \n",
      "    \"latitude\": 40.71, \n",
      "    \"longitude\": -74.0, \n",
      "    \"passes\": 5\n",
      "  }, \n",
      "  \"response\": [\n",
      "    {\n",
      "      \"duration\": 482, \n",
      "      \"risetime\": 1506294526\n",
      "    }, \n",
      "    {\n",
      "      \"duration\": 641, \n",
      "      \"risetime\": 1506300203\n",
      "    }, \n",
      "    {\n",
      "      \"duration\": 594, \n",
      "      \"risetime\": 1506306034\n",
      "    }, \n",
      "    {\n",
      "      \"duration\": 547, \n",
      "      \"risetime\": 1506311904\n",
      "    }, \n",
      "    {\n",
      "      \"duration\": 602, \n",
      "      \"risetime\": 1506317722\n",
      "    }\n",
      "  ]\n",
      "}\n",
      "\n"
     ]
    }
   ],
   "source": [
    "# Set up the parameters we want to pass to the API.\n",
    "# This is the latitude and longitude of New York City.\n",
    "parameters = {\"lat\": 40.71, \"lon\": -74}\n",
    "\n",
    "# Make a get request with the parameters.\n",
    "response = requests.get(\"http://api.open-notify.org/iss-pass.json\", params=parameters)\n",
    "\n",
    "# Print the content of the response (the data the server returned)\n",
    "print(response.content)\n",
    "\n",
    "# This gets the same data as the command above\n",
    "response = requests.get(\"http://api.open-notify.org/iss-pass.json?lat=40.71&lon=-74\")\n",
    "print(response.content)"
   ]
  },
  {
   "cell_type": "code",
   "execution_count": 3,
   "metadata": {
    "collapsed": false
   },
   "outputs": [
    {
     "name": "stdout",
     "output_type": "stream",
     "text": [
      "<type 'dict'>\n",
      "{u'message': u'success', u'request': {u'latitude': 37.78, u'passes': 5, u'altitude': 100, u'longitude': -122.41, u'datetime': 1506284315}, u'response': [{u'duration': 506, u'risetime': 1506305576}, {u'duration': 640, u'risetime': 1506311271}, {u'duration': 555, u'risetime': 1506317131}, {u'duration': 473, u'risetime': 1506323035}, {u'duration': 553, u'risetime': 1506328858}]}\n"
     ]
    }
   ],
   "source": [
    "# Make the same request we did earlier, but with the coordinates of San Francisco instead.\n",
    "parameters = {\"lat\": 37.78, \"lon\": -122.41}\n",
    "response = requests.get(\"http://api.open-notify.org/iss-pass.json\", params=parameters)\n",
    "\n",
    "# Get the response data as a python object.  Verify that it's a dictionary.\n",
    "data = response.json()\n",
    "print(type(data))\n",
    "print(data)"
   ]
  },
  {
   "cell_type": "code",
   "execution_count": 4,
   "metadata": {
    "collapsed": false
   },
   "outputs": [
    {
     "name": "stdout",
     "output_type": "stream",
     "text": [
      "{'Content-Length': '521', 'Via': '1.1 vegur', 'Server': 'nginx/1.10.3', 'Connection': 'keep-alive', 'Date': 'Sun, 24 Sep 2017 20:18:35 GMT', 'Content-Type': 'application/json'}\n",
      "application/json\n"
     ]
    }
   ],
   "source": [
    "# Headers is a dictionary\n",
    "print(response.headers)\n",
    "\n",
    "# Get the content-type from the dictionary.\n",
    "print(response.headers[\"content-type\"])"
   ]
  },
  {
   "cell_type": "code",
   "execution_count": 5,
   "metadata": {
    "collapsed": false
   },
   "outputs": [
    {
     "name": "stdout",
     "output_type": "stream",
     "text": [
      "6\n",
      "{u'message': u'success', u'number': 6, u'people': [{u'craft': u'ISS', u'name': u'Sergey Ryazanskiy'}, {u'craft': u'ISS', u'name': u'Randy Bresnik'}, {u'craft': u'ISS', u'name': u'Paolo Nespoli'}, {u'craft': u'ISS', u'name': u'Alexander Misurkin'}, {u'craft': u'ISS', u'name': u'Mark Vande Hei'}, {u'craft': u'ISS', u'name': u'Joe Acaba'}]}\n"
     ]
    }
   ],
   "source": [
    "# Get the response from the API endpoint.\n",
    "response = requests.get(\"http://api.open-notify.org/astros.json\")\n",
    "data = response.json()\n",
    "\n",
    "# 9 people are currently in space.\n",
    "print(data[\"number\"])\n",
    "print(data)"
   ]
  },
  {
   "cell_type": "markdown",
   "metadata": {},
   "source": [
    "## API Testing CSV and api.nobelprize.org\n",
    "\n",
    "http://api.nobelprize.org/"
   ]
  },
  {
   "cell_type": "code",
   "execution_count": 8,
   "metadata": {
    "collapsed": false
   },
   "outputs": [
    {
     "name": "stdout",
     "output_type": "stream",
     "text": [
      "400\n"
     ]
    }
   ],
   "source": [
    "import csv\n",
    "# Make a get request to get the latest position of the international space station from the opennotify api.\n",
    "response = requests.get(\"http://api.nobelprize.org/v1/nominee.csv\")\n",
    "\n",
    "# Print the status code of the response.\n",
    "print(response.status_code)"
   ]
  },
  {
   "cell_type": "code",
   "execution_count": 7,
   "metadata": {
    "collapsed": false
   },
   "outputs": [
    {
     "name": "stdout",
     "output_type": "stream",
     "text": [
      "year,category,overallMotivation,id,firstname,surname,motivation,share\n",
      "1969,chemistry,,237,\"Derek H. R.\",Barton,\"\"\"for their contributions to the development of the concept of conformation and its application in chemistry\"\"\",2\n",
      "1969,chemistry,,238,Odd,Hassel,\"\"\"for their contributions to the development of the concept of conformation and its application in chemistry\"\"\",2\n",
      "\n"
     ]
    }
   ],
   "source": [
    "# Set up the parameters we want to pass to the API.\n",
    "# This is the Name and \n",
    "parameters = {\"year\": 1969, \"category\": 'chemistry'}\n",
    "\n",
    "# Make a get request with the parameters.\n",
    "response = requests.get(\"http://api.nobelprize.org/v1/prize.csv\", params=parameters)\n",
    "\n",
    "# Print the content of the response (the data the server returned)\n",
    "print(response.content)"
   ]
  },
  {
   "cell_type": "markdown",
   "metadata": {},
   "source": [
    "## Data from US EPA \n",
    "[RadNet Customized Search](https://www.epa.gov/enviro/radnet-customized-search)\n",
    "\n",
    "Using 3 tables:\n",
    "- Media (air- charcoal, filter, milk, water - drinking, precipitation, surface)\n",
    "- Sampling Location (State, EPA region, or national) \n",
    "- Types of Radionuclides and Radiation (Ba-140, Be-7, Bi-206,207,212,214, Ca, C-14, C-14/C-Total, Ce-141,144, Cs-134, 136,137, Co-60, Alpha, Beta, I-131,132,133, La-138,140, Pb-210,211,212,214, Nb-95, Pu-238,239, Po-210, K, K-40, Ra-233,234,236,238, Rn-219,220, Ru-103,106, Na-22, Sr-89,90, Te-123m,129,129m,132, Tl-208, Th227,228,230,232,234, Tritium (H-3), U-234,235,238, Zn-65, Zr-95, Zr-95/Ni-95)\n",
    "\n",
    "Columns to Choose:\n",
    "V_ERAMS_MATRIX_SAMPLE_ANALYSIS\n",
    "+Mat_ID (Media ID)\n",
    "+Samp_ID\n",
    "+Ana_Size\n",
    "+Ana_Unit\n",
    "+Ana_Proc_N\n",
    "+Duration\n",
    "V_ERAMS_LOCATION\n",
    "+Loc_Num\n",
    "+City_Name\n",
    "+State_Abbr\n",
    "V_ERAMS_RESULTS_ANALYTE\n",
    "+Analyte_ID\n",
    "+Result_Amount\n",
    "+CSU\n",
    "+MDC\n",
    "+Result_Unit\n",
    "+Result_Date\n",
    "+Ana_Type\n",
    "+Half_Life\n",
    "+Half_Life_Time\n",
    "+Analyte_Name\n",
    "\n",
    "\n",
    "Generated SQL\n",
    "SELECT DISTINCT \n",
    "V_ERAMS_MATRIX_SAMPLE_ANALYSIS.MAT_ID, V_ERAMS_MATRIX_SAMPLE_ANALYSIS.SAMP_ID, V_ERAMS_MATRIX_SAMPLE_ANALYSIS.ANA_SIZE, V_ERAMS_MATRIX_SAMPLE_ANALYSIS.ANA_UNIT, V_ERAMS_MATRIX_SAMPLE_ANALYSIS.ANA_PROC_NUM, V_ERAMS_MATRIX_SAMPLE_ANALYSIS.DURATION, V_ERAMS_LOCATION.LOC_NUM, V_ERAMS_LOCATION.CITY_NAME, V_ERAMS_LOCATION.STATE_ABBR, V_ERAMS_RESULTS_ANALYTE.ANALYTE_ID, V_ERAMS_RESULTS_ANALYTE.RESULT_AMOUNT, V_ERAMS_RESULTS_ANALYTE.CSU, V_ERAMS_RESULTS_ANALYTE.MDC, V_ERAMS_RESULTS_ANALYTE.RESULT_UNIT, to_char(V_ERAMS_RESULTS_ANALYTE.RESULT_DATE, 'YYYY-MM-DD'), V_ERAMS_RESULTS_ANALYTE.ANA_TYPE, V_ERAMS_RESULTS_ANALYTE.HALF_LIFE, V_ERAMS_RESULTS_ANALYTE.HALF_LIFE_TIME_UNIT, V_ERAMS_RESULTS_ANALYTE.ANALYTE_NAME from V_ERAMS_MATRIX_SAMPLE_ANALYSIS , V_ERAMS_RESULTS_ANALYTE, V_ERAMS_LOCATION where V_ERAMS_MATRIX_SAMPLE_ANALYSIS.MAT_ID = 'DRINKING WATER' and (V_ERAMS_RESULTS_ANALYTE.result_date BETWEEN To_date('01/01/2000','MM/DD/YYYY') AND To_date('09/01/2017','MM/DD/YYYY')) and V_ERAMS_MATRIX_SAMPLE_ANALYSIS.ana_num = V_ERAMS_RESULTS_ANALYTE.ana_num and V_ERAMS_LOCATION.loc_num = V_ERAMS_MATRIX_SAMPLE_ANALYSIS.loc_num and V_ERAMS_LOCATION.loc_num = V_ERAMS_RESULTS_ANALYTE.loc_num\n",
    "\n",
    "## URL Queries \n",
    "http://iaspub.epa.gov/enviro/efservice/**table_name/column_name/operator/column_value/..../CSV**\n",
    "\n",
    "1. Table Name\n",
    "2. Column Name\n",
    "3. Operator (= default, !=,<,>, BEGINNING, CONTAINING)\n",
    "4. Column Value (optional)\n",
    "5. Rows (optional, x:y)\n",
    "6. Output Format (JSON, CSV or EXCEL)\n",
    "7. Count (cannot be used with 6. Output format)"
   ]
  },
  {
   "cell_type": "code",
   "execution_count": 32,
   "metadata": {
    "collapsed": false
   },
   "outputs": [
    {
     "name": "stdout",
     "output_type": "stream",
     "text": [
      "https://iaspub.epa.gov/enviro/efservice/erm_sample/erm_matrix/MAT_ID/DRINKING%20WATER/erm_location/state_abbr/CA/COUNT\n",
      "<?xml version=\"1.0\"?>\n",
      "<Envirofacts>\n",
      "<RequestRecordCount>340</RequestRecordCount>\n",
      "</Envirofacts>\n",
      "\n"
     ]
    }
   ],
   "source": [
    "##https://docs.python.org/2/howto/urllib2.html\n",
    "##HOWTO Fetch Internet Resources Using urllib2   \n",
    "import urllib\n",
    "import urllib2\n",
    "\n",
    "url = 'http://iaspub.epa.gov/enviro/efservice/'\n",
    "entire_url = 'https://iaspub.epa.gov/enviro/efservice/erm_sample/erm_matrix/MAT_ID/DRINKING%20WATER/erm_location/state_abbr/CA/COUNT'\n",
    "\n",
    "print entire_url\n",
    "\n",
    "req = urllib2.Request(entire_url)\n",
    "response = urllib2.urlopen(req)\n",
    "d = response.read()\n",
    "print d"
   ]
  },
  {
   "cell_type": "code",
   "execution_count": 11,
   "metadata": {
    "collapsed": false
   },
   "outputs": [
    {
     "ename": "NameError",
     "evalue": "name 'version' is not defined",
     "output_type": "error",
     "traceback": [
      "\u001b[0;31m---------------------------------------------------------------------------\u001b[0m",
      "\u001b[0;31mNameError\u001b[0m                                 Traceback (most recent call last)",
      "\u001b[0;32m<ipython-input-11-07ddd97378d5>\u001b[0m in \u001b[0;36m<module>\u001b[0;34m()\u001b[0m\n\u001b[0;32m----> 1\u001b[0;31m \u001b[0mversion\u001b[0m\u001b[0;34m(\u001b[0m\u001b[0mpython\u001b[0m\u001b[0;34m)\u001b[0m\u001b[0;34m\u001b[0m\u001b[0m\n\u001b[0m",
      "\u001b[0;31mNameError\u001b[0m: name 'version' is not defined"
     ]
    }
   ],
   "source": [
    "version(python)"
   ]
  },
  {
   "cell_type": "code",
   "execution_count": 13,
   "metadata": {
    "collapsed": false
   },
   "outputs": [
    {
     "data": {
      "text/plain": [
       "'2.7.12 |Anaconda 4.1.1 (x86_64)| (default, Jul  2 2016, 17:43:17) \\n[GCC 4.2.1 (Based on Apple Inc. build 5658) (LLVM build 2336.11.00)]'"
      ]
     },
     "execution_count": 13,
     "metadata": {},
     "output_type": "execute_result"
    }
   ],
   "source": [
    "import sys\n",
    "sys.version\n",
    "#sys.version_info"
   ]
  },
  {
   "cell_type": "code",
   "execution_count": null,
   "metadata": {
    "collapsed": true
   },
   "outputs": [],
   "source": []
  }
 ],
 "metadata": {
  "anaconda-cloud": {},
  "kernelspec": {
   "display_name": "Python [Root]",
   "language": "python",
   "name": "Python [Root]"
  },
  "language_info": {
   "codemirror_mode": {
    "name": "ipython",
    "version": 2
   },
   "file_extension": ".py",
   "mimetype": "text/x-python",
   "name": "python",
   "nbconvert_exporter": "python",
   "pygments_lexer": "ipython2",
   "version": "2.7.12"
  }
 },
 "nbformat": 4,
 "nbformat_minor": 0
}
